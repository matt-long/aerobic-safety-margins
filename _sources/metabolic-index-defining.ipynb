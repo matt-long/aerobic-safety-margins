{
 "cells": [
  {
   "cell_type": "markdown",
   "metadata": {},
   "source": [
    "# The Metabolic Index\n",
    "\n",
    "The Metabolic Index {cite}`Deutsch-Ferrel-etal-2015` is defined as the ratio of oxygen supply to the oxygen demand necessary to sustain respiratory metabolism. Ignoring dependence on body size (mass), the Metabolic Index ($\\Phi$) is defined as follows.\n",
    "\n",
    "\n",
    "$$\n",
    "  \\Phi = A_o \\frac{P_{\\mathrm{O}_2}}\n",
    "  {\\mathrm{exp}\\left[\n",
    "  \\frac{-E_o}{k_B}\\left(\n",
    "  \\frac{1}{T} - \\frac{1}{T_{ref}}\n",
    "  \\right)\n",
    "  \\right]\n",
    "  }\n",
    "$$\n",
    "\n",
    "Oxygen supply depends on the availability of oxygen in the environment, quantified by the partial pressure of oxygen ($P_{\\mathrm{O}_2}$), as well as the physiological acquisition and transport capacities of organisms. The aggegration of these capacities yields a \"hypoxic tolerance\" trait that varies across marine organisms and is represented by the parameter $A_o$.\n",
    "\n",
    "Oxygen demand scales as a function of temperature-dependent metabolic rate, represented by the [Arrhenius Equation](https://en.wikipedia.org/wiki/Arrhenius_equation). The temperature sensitivity of metabolic rate is specified by the parameter $E_o$, which is a trait that varies across species.\n",
    "\n",
    "\n",
    "Where the $\\Phi >= 1$, an organism can meet its resting metabolic demand. Notably, however, this precludes activity necessary for reproduction and feeding; thus organisms require $\\Phi >= \\Phi_{crit}$, where $\\Phi_{crit}$ is the minimum value of $\\Phi$ sufficient to sustain ecologically-relevant metabolic rates. \n",
    "\n",
    "Here we provide a illustration of how $\\Phi$ enables quanitification of habitability in the context of constraints imposed by the requirements of aerobic metabolism."
   ]
  },
  {
   "cell_type": "code",
   "execution_count": 2,
   "metadata": {
    "tags": [
     "hide-input"
    ]
   },
   "outputs": [
    {
     "name": "stderr",
     "output_type": "stream",
     "text": [
      "/glade/work/mclong/miniconda3/envs/metabolic/lib/python3.7/site-packages/dask_jobqueue/core.py:20: FutureWarning: tmpfile is deprecated and will be removed in a future release. Please use dask.utils.tmpfile instead.\n",
      "  from distributed.utils import tmpfile\n"
     ]
    }
   ],
   "source": [
    "%load_ext autoreload\n",
    "%autoreload 2\n",
    "\n",
    "import cmocean\n",
    "import constants\n",
    "import matplotlib.pyplot as plt\n",
    "import metabolic as mi\n",
    "import numpy as np\n",
    "import util\n",
    "import xarray as xr\n",
    "from scipy import stats as scistats"
   ]
  },
  {
   "cell_type": "markdown",
   "metadata": {},
   "source": [
    "## Load traits database\n",
    "\n",
    "Load a subset of the trait data from {cite:t}`Deutsch-Penn-etal-2020`, including only the marine organisms for which temerature-dependent hypoxia metabolic traits have been determined. \n",
    "\n",
    "The `open_traits_df` function is defined in the [metabolic](https://github.com/matt-long/aerobic-safety-margins/blob/main/notebooks/metabolic.py) module and  makes the trait data available via a [pandas](https://pandas.pydata.org/) `DataFrame`."
   ]
  },
  {
   "cell_type": "code",
   "execution_count": 3,
   "metadata": {},
   "outputs": [
    {
     "data": {
      "text/html": [
       "<div>\n",
       "<style scoped>\n",
       "    .dataframe tbody tr th:only-of-type {\n",
       "        vertical-align: middle;\n",
       "    }\n",
       "\n",
       "    .dataframe tbody tr th {\n",
       "        vertical-align: top;\n",
       "    }\n",
       "\n",
       "    .dataframe thead th {\n",
       "        text-align: right;\n",
       "    }\n",
       "</style>\n",
       "<table border=\"1\" class=\"dataframe\">\n",
       "  <thead>\n",
       "    <tr style=\"text-align: right;\">\n",
       "      <th></th>\n",
       "      <th>Species</th>\n",
       "      <th>Phylum</th>\n",
       "      <th>alphaD_log10</th>\n",
       "      <th>Emet</th>\n",
       "      <th>Eo</th>\n",
       "      <th>Ao</th>\n",
       "      <th>Ac</th>\n",
       "      <th>Phi_crit</th>\n",
       "    </tr>\n",
       "  </thead>\n",
       "  <tbody>\n",
       "    <tr>\n",
       "      <th>0</th>\n",
       "      <td>Acanthephyra acutifrons</td>\n",
       "      <td>Crustacea</td>\n",
       "      <td>0.479565</td>\n",
       "      <td>0.040200</td>\n",
       "      <td>-0.027836</td>\n",
       "      <td>0.264715</td>\n",
       "      <td>0.131959</td>\n",
       "      <td>2.006040</td>\n",
       "    </tr>\n",
       "    <tr>\n",
       "      <th>1</th>\n",
       "      <td>Acanthephyra curtirostris</td>\n",
       "      <td>Crustacea</td>\n",
       "      <td>0.377714</td>\n",
       "      <td>0.043938</td>\n",
       "      <td>0.038027</td>\n",
       "      <td>0.252578</td>\n",
       "      <td>0.141861</td>\n",
       "      <td>1.780456</td>\n",
       "    </tr>\n",
       "    <tr>\n",
       "      <th>2</th>\n",
       "      <td>Acanthephyra purpurea</td>\n",
       "      <td>Crustacea</td>\n",
       "      <td>1.035748</td>\n",
       "      <td>0.840722</td>\n",
       "      <td>0.131972</td>\n",
       "      <td>0.230068</td>\n",
       "      <td>0.073638</td>\n",
       "      <td>3.124330</td>\n",
       "    </tr>\n",
       "    <tr>\n",
       "      <th>3</th>\n",
       "      <td>Acanthephyra smithi</td>\n",
       "      <td>Crustacea</td>\n",
       "      <td>1.082577</td>\n",
       "      <td>0.313173</td>\n",
       "      <td>-0.030067</td>\n",
       "      <td>0.286307</td>\n",
       "      <td>0.174423</td>\n",
       "      <td>1.641453</td>\n",
       "    </tr>\n",
       "    <tr>\n",
       "      <th>4</th>\n",
       "      <td>Acipenser brevirostrum</td>\n",
       "      <td>Chordata</td>\n",
       "      <td>NaN</td>\n",
       "      <td>NaN</td>\n",
       "      <td>0.362569</td>\n",
       "      <td>0.218524</td>\n",
       "      <td>0.048415</td>\n",
       "      <td>4.513525</td>\n",
       "    </tr>\n",
       "    <tr>\n",
       "      <th>...</th>\n",
       "      <td>...</td>\n",
       "      <td>...</td>\n",
       "      <td>...</td>\n",
       "      <td>...</td>\n",
       "      <td>...</td>\n",
       "      <td>...</td>\n",
       "      <td>...</td>\n",
       "      <td>...</td>\n",
       "    </tr>\n",
       "    <tr>\n",
       "      <th>56</th>\n",
       "      <td>Styela plicata</td>\n",
       "      <td>Tunicata</td>\n",
       "      <td>0.433791</td>\n",
       "      <td>0.346635</td>\n",
       "      <td>-0.190998</td>\n",
       "      <td>0.061336</td>\n",
       "      <td>0.043505</td>\n",
       "      <td>1.409863</td>\n",
       "    </tr>\n",
       "    <tr>\n",
       "      <th>57</th>\n",
       "      <td>Systellaspis debilis</td>\n",
       "      <td>Crustacea</td>\n",
       "      <td>0.779626</td>\n",
       "      <td>0.418652</td>\n",
       "      <td>0.226970</td>\n",
       "      <td>0.219289</td>\n",
       "      <td>0.096003</td>\n",
       "      <td>2.284196</td>\n",
       "    </tr>\n",
       "    <tr>\n",
       "      <th>58</th>\n",
       "      <td>Tarletonbeania crenularis</td>\n",
       "      <td>Chordata</td>\n",
       "      <td>NaN</td>\n",
       "      <td>NaN</td>\n",
       "      <td>0.213307</td>\n",
       "      <td>0.203696</td>\n",
       "      <td>0.051780</td>\n",
       "      <td>3.933876</td>\n",
       "    </tr>\n",
       "    <tr>\n",
       "      <th>59</th>\n",
       "      <td>Tautogolabrus adspersus</td>\n",
       "      <td>Chordata</td>\n",
       "      <td>0.801974</td>\n",
       "      <td>0.327012</td>\n",
       "      <td>0.244520</td>\n",
       "      <td>0.170886</td>\n",
       "      <td>0.051204</td>\n",
       "      <td>3.337395</td>\n",
       "    </tr>\n",
       "    <tr>\n",
       "      <th>60</th>\n",
       "      <td>Zoarces viviparus</td>\n",
       "      <td>Chordata</td>\n",
       "      <td>NaN</td>\n",
       "      <td>NaN</td>\n",
       "      <td>0.789434</td>\n",
       "      <td>0.177870</td>\n",
       "      <td>0.062111</td>\n",
       "      <td>2.863717</td>\n",
       "    </tr>\n",
       "  </tbody>\n",
       "</table>\n",
       "<p>61 rows × 8 columns</p>\n",
       "</div>"
      ],
      "text/plain": [
       "                      Species     Phylum  alphaD_log10      Emet        Eo  \\\n",
       "0     Acanthephyra acutifrons  Crustacea      0.479565  0.040200 -0.027836   \n",
       "1   Acanthephyra curtirostris  Crustacea      0.377714  0.043938  0.038027   \n",
       "2       Acanthephyra purpurea  Crustacea      1.035748  0.840722  0.131972   \n",
       "3         Acanthephyra smithi  Crustacea      1.082577  0.313173 -0.030067   \n",
       "4      Acipenser brevirostrum   Chordata           NaN       NaN  0.362569   \n",
       "..                        ...        ...           ...       ...       ...   \n",
       "56             Styela plicata   Tunicata      0.433791  0.346635 -0.190998   \n",
       "57       Systellaspis debilis  Crustacea      0.779626  0.418652  0.226970   \n",
       "58  Tarletonbeania crenularis   Chordata           NaN       NaN  0.213307   \n",
       "59    Tautogolabrus adspersus   Chordata      0.801974  0.327012  0.244520   \n",
       "60          Zoarces viviparus   Chordata           NaN       NaN  0.789434   \n",
       "\n",
       "          Ao        Ac  Phi_crit  \n",
       "0   0.264715  0.131959  2.006040  \n",
       "1   0.252578  0.141861  1.780456  \n",
       "2   0.230068  0.073638  3.124330  \n",
       "3   0.286307  0.174423  1.641453  \n",
       "4   0.218524  0.048415  4.513525  \n",
       "..       ...       ...       ...  \n",
       "56  0.061336  0.043505  1.409863  \n",
       "57  0.219289  0.096003  2.284196  \n",
       "58  0.203696  0.051780  3.933876  \n",
       "59  0.170886  0.051204  3.337395  \n",
       "60  0.177870  0.062111  2.863717  \n",
       "\n",
       "[61 rows x 8 columns]"
      ]
     },
     "execution_count": 3,
     "metadata": {},
     "output_type": "execute_result"
    }
   ],
   "source": [
    "df = mi.open_traits_df()\n",
    "df"
   ]
  },
  {
   "cell_type": "markdown",
   "metadata": {},
   "source": [
    "Pull out some median traits for illustration purposes. [This notebook](./trait-space-joint-pdf.ipynb) presents a full exploration of trait PDFs. "
   ]
  },
  {
   "cell_type": "code",
   "execution_count": 11,
   "metadata": {},
   "outputs": [
    {
     "name": "stdout",
     "output_type": "stream",
     "text": [
      "0.078 1/kPa\n"
     ]
    }
   ],
   "source": [
    "Ac_med = mi.trait_pdf(df, 'Ac', 30).median()\n",
    "print(f'Median Ac = {Ac_med:0.3f} 1/kPa')"
   ]
  },
  {
   "cell_type": "code",
   "execution_count": 12,
   "metadata": {},
   "outputs": [
    {
     "name": "stdout",
     "output_type": "stream",
     "text": [
      "0.217 1/kPa\n"
     ]
    }
   ],
   "source": [
    "Ao_med = mi.trait_pdf(df, 'Ao', 30).median()\n",
    "print(f'Median Ao = {Ao_med:0.3f} 1/kPa')"
   ]
  },
  {
   "cell_type": "code",
   "execution_count": 13,
   "metadata": {},
   "outputs": [
    {
     "name": "stdout",
     "output_type": "stream",
     "text": [
      "0.381 eV\n"
     ]
    }
   ],
   "source": [
    "Eo_med = mi.trait_pdf(df, 'Eo', 30).median()\n",
    "print(f'Median Eo = {Eo_med:0.3f} eV')"
   ]
  },
  {
   "cell_type": "markdown",
   "metadata": {},
   "source": [
    "## Explaining the Metabolic Index\n",
    "\n",
    "In the cell below, we define a function that plots curves of constant $\\Phi$ in in \\PO2{}-temperature space (click \"+\" at right to see the code)."
   ]
  },
  {
   "cell_type": "code",
   "execution_count": 5,
   "metadata": {
    "tags": [
     "hide-input"
    ]
   },
   "outputs": [],
   "source": [
    "def plot_MI_illustration(which):\n",
    "    fig, ax = plt.subplots()\n",
    "\n",
    "    PO2_atm = constants.XiO2 * constants.kPa_per_atm\n",
    "    T = np.arange(0, 32, 0.1)\n",
    "\n",
    "    pO2_at_Phi_crit = mi.pO2_at_Phi_one(T, Ac_med, Eo_med * 2)\n",
    "    pO2_at_Phi_one = mi.pO2_at_Phi_one(T, Ao_med, Eo_med * 2)\n",
    "\n",
    "    ATmax_crit = mi.compute_ATmax(PO2_atm, Ac_med, Eo_med * 2)\n",
    "    ATmax_one = mi.compute_ATmax(PO2_atm, Ao_med, Eo_med * 2)\n",
    "\n",
    "    color_rest = 'tab:blue'\n",
    "    color_active = 'tab:red'\n",
    "\n",
    "    # active\n",
    "    if 'active' in which:\n",
    "        ax.plot(T, pO2_at_Phi_crit, '-', linewidth=2, color=color_active)\n",
    "        ax.fill_between(\n",
    "            T,\n",
    "            pO2_at_Phi_crit,\n",
    "            constants.XiO2 * constants.kPa_per_atm,\n",
    "            where=pO2_at_Phi_crit <= PO2_atm,\n",
    "            color='tab:green',\n",
    "            alpha=0.5,\n",
    "        )\n",
    "        ax.plot(\n",
    "            ATmax_crit,\n",
    "            PO2_atm,\n",
    "            'o',\n",
    "            color=color_active,\n",
    "        )\n",
    "        ax.text(\n",
    "            10,\n",
    "            mi.pO2_at_Phi_one(10, Ac_med, Eo_med * 2) - 1.5,\n",
    "            r'$\\Phi = \\Phi_{crit}$',\n",
    "            color=color_active,\n",
    "            fontsize=16,\n",
    "            rotation=35,\n",
    "        )\n",
    "\n",
    "    # resting\n",
    "    ax.plot(T, pO2_at_Phi_one, '-', linewidth=2, color=color_rest)\n",
    "    ax.plot(\n",
    "        ATmax_one,\n",
    "        PO2_atm,\n",
    "        'o',\n",
    "        color=color_rest,\n",
    "    )\n",
    "    ax.text(\n",
    "        25,\n",
    "        mi.pO2_at_Phi_one(25, Ao_med, Eo_med * 2) - 1.5,\n",
    "        r'$\\Phi = 1$',\n",
    "        color=color_rest,\n",
    "        fontsize=16,\n",
    "        rotation=48,\n",
    "    )\n",
    "\n",
    "    if 'resting' in which:\n",
    "        ax.fill_between(\n",
    "            T,\n",
    "            pO2_at_Phi_one,\n",
    "            constants.XiO2 * constants.kPa_per_atm,\n",
    "            where=pO2_at_Phi_one <= PO2_atm,\n",
    "            color='tab:green',\n",
    "            alpha=0.5,\n",
    "        )\n",
    "\n",
    "    ax.spines['right'].set_visible(False)\n",
    "    ax.spines['top'].set_visible(False)\n",
    "    ax.spines['left'].set_linewidth(2)\n",
    "    ax.spines['bottom'].set_linewidth(2)\n",
    "    ax.set_xticks([])\n",
    "    ax.set_yticks([])\n",
    "    ax.set_xlim([T.min(), T.max()])\n",
    "    ax.set_xlabel('Temperature [°C]')\n",
    "    ax.set_ylabel(r'$P_{\\mathrm{O}_2}$ [kPa]')\n",
    "\n",
    "    xlm = ax.get_xlim()\n",
    "    ylm = (-2.6251270379913803, 73.89798889088694)  # ax.get_ylim()\n",
    "\n",
    "    ax.set_ylim([ylm[0], PO2_atm + 0.05 * np.diff(ylm)])\n",
    "\n",
    "    ax.axhline(PO2_atm, linewidth=1, color='k', linestyle='--', zorder=-100)\n",
    "    ax.text(\n",
    "        xlm[0] + 0.05 * np.diff(xlm), PO2_atm + 0.01 * np.diff(ylm), r'$P_{\\mathrm{O}_2}^{atm}$'\n",
    "    )\n",
    "\n",
    "    if 'base' in which:\n",
    "        ax.plot(\n",
    "            [15.0, 15.0],\n",
    "            [ylm[0], mi.pO2_at_Phi_one(15, Ao_med, Eo_med * 2)],\n",
    "            '--',\n",
    "            color=color_rest,\n",
    "        )\n",
    "        ax.plot(\n",
    "            [xlm[0], 15.0],\n",
    "            [mi.pO2_at_Phi_one(15, Ao_med, Eo_med * 2), mi.pO2_at_Phi_one(15, Ao_med, Eo_med * 2)],\n",
    "            '--',\n",
    "            color=color_rest,\n",
    "        )\n",
    "        ax.text(15 - 0.25, ylm[0] + 0.01 * np.diff(ylm), 'T$_{ref}$', ha='right', color=color_rest)\n",
    "\n",
    "        ax.text(\n",
    "            15 / 2,\n",
    "            mi.pO2_at_Phi_one(15, Ao_med, Eo_med * 2) + 0.01 * np.diff(ylm),\n",
    "            '$1/A_o$ = Hypoxic tolerance',\n",
    "            ha='center',\n",
    "            color=color_rest,\n",
    "        )\n",
    "\n",
    "        spc = ' ' * 23\n",
    "        ax.text(\n",
    "            18,\n",
    "            mi.pO2_at_Phi_one(18, Ao_med, Eo_med * 2) - 0.06 * np.diff(ylm),\n",
    "            f'slope $\\\\propto$ $E_o$ = Temperature\\n{spc}sensitivity of\\n{spc}metabolism',\n",
    "            ha='left',\n",
    "            color=color_rest,\n",
    "        )\n",
    "\n",
    "    if 'resting' in which:\n",
    "        ax.text(7, PO2_atm / 1.5, 'Habitable', color='tab:green', fontsize=16, fontweight='bold')\n",
    "        ax.text(18, PO2_atm / 12, 'Not\\nhabitable', color='tab:red', fontsize=16, fontweight='bold')\n",
    "\n",
    "    if 'resting' in which or 'active' in which:\n",
    "        ax.plot([ATmax_one, ATmax_one], [ylm[0], PO2_atm], '--', color=color_rest)\n",
    "        ax.text(\n",
    "            ATmax_one - 0.25,\n",
    "            ylm[0] + 0.01 * np.diff(ylm),\n",
    "            'Resting\\nAT$_{max}$',\n",
    "            ha='right',\n",
    "            color=color_rest,\n",
    "        )\n",
    "\n",
    "    if 'active' in which:\n",
    "        ax.plot([ATmax_crit, ATmax_crit], [ylm[0], PO2_atm], '--', color=color_active)\n",
    "        ax.text(\n",
    "            ATmax_crit - 0.25,\n",
    "            ylm[0] + 0.01 * np.diff(ylm),\n",
    "            'Active\\nAT$_{max}$',\n",
    "            ha='right',\n",
    "            color=color_active,\n",
    "        )\n",
    "\n",
    "    plt.savefig(f'figures/misc/phi-explain-{which}.png', dpi=300)"
   ]
  },
  {
   "cell_type": "markdown",
   "metadata": {},
   "source": [
    "Using this function, we can produce a figure similar to Fig 1 of {cite:t}`Deutsch-Penn-etal-2020`, showing curves of constant $\\Phi$ in $P_{\\mathrm{O}_2}$-temperature space. \n",
    "\n",
    "This plot illustrates how the paramters control the shape of the curve."
   ]
  },
  {
   "cell_type": "code",
   "execution_count": 6,
   "metadata": {
    "tags": []
   },
   "outputs": [
    {
     "data": {
      "image/png": "[encoded data removed]",
      "text/plain": [
       "<Figure size 432x288 with 1 Axes>"
      ]
     },
     "metadata": {},
     "output_type": "display_data"
    }
   ],
   "source": [
    "plot_MI_illustration('base')"
   ]
  },
  {
   "cell_type": "markdown",
   "metadata": {},
   "source": [
    "The $\\Phi = 1$ line delineates the region in $P_{\\mathrm{O}_2}$-temperature space that is habitable from that that is too warm with insufficient oxygen. The intersection of this line with $P_{\\mathrm{O}_2}^{atm}$ defines the maximum temperature at which metabolism can be sustained."
   ]
  },
  {
   "cell_type": "code",
   "execution_count": 7,
   "metadata": {
    "tags": []
   },
   "outputs": [
    {
     "data": {
      "image/png": "[encoded data removed]",
      "text/plain": [
       "<Figure size 432x288 with 1 Axes>"
      ]
     },
     "metadata": {},
     "output_type": "display_data"
    }
   ],
   "source": [
    "plot_MI_illustration('resting')"
   ]
  },
  {
   "cell_type": "markdown",
   "metadata": {},
   "source": [
    "Ecological requirements to sustain metabolic rates above those of resting metabolism impose further restrictions on habiability.\n",
    "\n",
    "The $\\Phi = \\Phi_{crit}$ line inscribes a smaller region of habitability in $P_{\\mathrm{O}_2}$-temperature space than that corresponding to resting metabolism ($\\Phi = 1$)."
   ]
  },
  {
   "cell_type": "code",
   "execution_count": 8,
   "metadata": {
    "tags": []
   },
   "outputs": [
    {
     "data": {
      "image/png": "[encoded data removed]",
      "text/plain": [
       "<Figure size 432x288 with 1 Axes>"
      ]
     },
     "metadata": {},
     "output_type": "display_data"
    }
   ],
   "source": [
    "plot_MI_illustration('active')"
   ]
  }
 ],
 "metadata": {
  "kernelspec": {
   "display_name": "Python [conda env:metabolic]",
   "language": "python",
   "name": "conda-env-metabolic-py"
  },
  "language_info": {
   "codemirror_mode": {
    "name": "ipython",
    "version": 3
   },
   "file_extension": ".py",
   "mimetype": "text/x-python",
   "name": "python",
   "nbconvert_exporter": "python",
   "pygments_lexer": "ipython3",
   "version": "3.7.12"
  }
 },
 "nbformat": 4,
 "nbformat_minor": 5
}
