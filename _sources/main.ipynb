{
 "cells": [
  {
   "cell_type": "code",
   "execution_count": 1,
   "id": "6e38ba02-5d38-4d2b-82ca-6e0473c9de7d",
   "metadata": {},
   "outputs": [],
   "source": [
    "%load_ext autoreload\n",
    "%autoreload 2"
   ]
  },
  {
   "cell_type": "code",
   "execution_count": 2,
   "id": "96e05504-0b0a-4574-bd0b-3567b420211f",
   "metadata": {},
   "outputs": [],
   "source": [
    "import os\n",
    "\n",
    "import jupyter_client\n",
    "import run_calc"
   ]
  },
  {
   "cell_type": "code",
   "execution_count": null,
   "id": "76cd7e19-3651-4c9d-af5a-6cf66e644a8f",
   "metadata": {},
   "outputs": [],
   "source": [
    "project_kernel = 'metabolic'\n",
    "run_calc.install_conda_kernel(project_kernel)  # unsure how updates propogate"
   ]
  },
  {
   "cell_type": "code",
   "execution_count": 3,
   "id": "c9ebc03c-abab-4d81-a791-2db2e9c9e2ab",
   "metadata": {},
   "outputs": [],
   "source": [
    "fig1_nbs = [\n",
    "    'trait-space-joint-pdf.ipynb',\n",
    "    'compute-viable-traits.ipynb',\n",
    "    'compute-aerobic-safety-margin.ipynb',\n",
    "    'compute-zonal-safety-margin-metrics.ipynb',\n",
    "]\n",
    "ok = run_calc.run(fig1_nbs, kernel=project_kernel)"
   ]
  },
  {
   "cell_type": "code",
   "execution_count": 4,
   "id": "fddc047c-06f6-48ea-9027-7436f5a11266",
   "metadata": {},
   "outputs": [
    {
     "name": "stdout",
     "output_type": "stream",
     "text": [
      "--------------------------------------------------------------------------------\n",
      "executing: junk1.ipynb\n",
      "wrote: /glade/u/home/mclong/codes/aerobic-safety-margins/notebooks/junk1.ipynb\n",
      "--------------------------------------------------------------------------------\n",
      "executing: junk2.ipynb\n",
      "wrote: /glade/u/home/mclong/codes/aerobic-safety-margins/notebooks/junk2.ipynb\n"
     ]
    },
    {
     "data": {
      "text/plain": [
       "True"
      ]
     },
     "execution_count": 4,
     "metadata": {},
     "output_type": "execute_result"
    }
   ],
   "source": []
  },
  {
   "cell_type": "code",
   "execution_count": 1,
   "id": "ce7ecdf6-861b-4ecc-9fa3-0b72e14cf118",
   "metadata": {},
   "outputs": [],
   "source": []
  },
  {
   "cell_type": "code",
   "execution_count": null,
   "id": "0c391d67-f44b-49cf-a385-5571d2fe35d5",
   "metadata": {},
   "outputs": [],
   "source": []
  }
 ],
 "metadata": {
  "kernelspec": {
   "display_name": "Python [conda env:miniconda3-metabolic]",
   "language": "python",
   "name": "conda-env-miniconda3-metabolic-py"
  },
  "language_info": {
   "codemirror_mode": {
    "name": "ipython",
    "version": 3
   },
   "file_extension": ".py",
   "mimetype": "text/x-python",
   "name": "python",
   "nbconvert_exporter": "python",
   "pygments_lexer": "ipython3",
   "version": "3.7.12"
  }
 },
 "nbformat": 4,
 "nbformat_minor": 5
}
