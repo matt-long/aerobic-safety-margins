{
 "cells": [
  {
   "cell_type": "code",
   "execution_count": null,
   "id": "6e38ba02-5d38-4d2b-82ca-6e0473c9de7d",
   "metadata": {},
   "outputs": [],
   "source": [
    "%load_ext autoreload\n",
    "%autoreload 2"
   ]
  },
  {
   "cell_type": "code",
   "execution_count": null,
   "id": "96e05504-0b0a-4574-bd0b-3567b420211f",
   "metadata": {},
   "outputs": [],
   "source": [
    "import os\n",
    "\n",
    "import jupyter_client\n",
    "import papermill as pm\n",
    "import run_calc\n",
    "import yaml"
   ]
  },
  {
   "cell_type": "code",
   "execution_count": null,
   "id": "76cd7e19-3651-4c9d-af5a-6cf66e644a8f",
   "metadata": {},
   "outputs": [],
   "source": [
    "project_kernel = 'metabolic'\n",
    "run_calc.install_conda_kernel(project_kernel)"
   ]
  },
  {
   "cell_type": "code",
   "execution_count": null,
   "id": "45ba8a99-347e-4655-9842-e7972ae29007",
   "metadata": {},
   "outputs": [
    {
     "data": {
      "application/vnd.jupyter.widget-view+json": {
       "model_id": "e94d6a563e5b4738bfbc4473a8a1f0ea",
       "version_major": 2,
       "version_minor": 0
      },
      "text/plain": [
       "Executing:   0%|          | 0/2 [00:00<?, ?cell/s]"
      ]
     },
     "metadata": {},
     "output_type": "display_data"
    }
   ],
   "source": [
    "preprocess = [\n",
    "    'compute-drift-corr-cesm-le.ipynb',\n",
    "    'compute-pO2-cesm-le.ipynb',\n",
    "    'compute-trends-cesm-le.ipynb',\n",
    "]"
   ]
  },
  {
   "cell_type": "code",
   "execution_count": null,
   "id": "40af04b8-f63c-4656-8d6e-f4266d4af4bc",
   "metadata": {},
   "outputs": [],
   "source": [
    "figure1 = [\n",
    "    'trait-space-joint-pdf.ipynb',\n",
    "    'compute-viable-traits.ipynb',\n",
    "    'compute-aerobic-safety-margin.ipynb',\n",
    "    'compute-zonal-safety-margin-metrics.ipynb',\n",
    "    'figure-1.ipynb',\n",
    "]\n",
    "for nb in figure1:\n",
    "    o = pm.execute_notebook(\n",
    "        input_path=nb,\n",
    "        output_path=nb,\n",
    "        kernel_name=project_kernel,\n",
    "    )"
   ]
  },
  {
   "cell_type": "code",
   "execution_count": null,
   "id": "83ae0e13-a2c6-4c13-80e0-30fce6fa0575",
   "metadata": {},
   "outputs": [],
   "source": [
    "figure2 = [\n",
    "    'compute-ts-and-epoch-means.ipynb',\n",
    "    'compute-aerobic-habitat-change.ipynb',\n",
    "]\n",
    "for nb in figure2:\n",
    "    o = pm.execute_notebook(\n",
    "        input_path=nb,\n",
    "        output_path=nb,\n",
    "        kernel_name=project_kernel,\n",
    "    )"
   ]
  },
  {
   "cell_type": "code",
   "execution_count": null,
   "id": "7220dd89-a8f6-4c6b-ba1f-861620098076",
   "metadata": {},
   "outputs": [
    {
     "name": "stdout",
     "output_type": "stream",
     "text": [
      "--------------------------------------------------------------------------------\n",
      "executing: compute-viable-traits.ipynb\n",
      "wrote: /glade/u/home/mclong/codes/aerobic-safety-margins/notebooks/compute-viable-traits.ipynb\n",
      "--------------------------------------------------------------------------------\n",
      "executing: compute-zonal-safety-margin-metrics.ipynb\n",
      "wrote: /glade/u/home/mclong/codes/aerobic-safety-margins/notebooks/compute-zonal-safety-margin-metrics.ipynb\n",
      "--------------------------------------------------------------------------------\n",
      "executing: figure-1.ipynb\n"
     ]
    },
    {
     "name": "stderr",
     "output_type": "stream",
     "text": [
      "[IPKernelApp] ERROR | Error in message handler\n",
      "Traceback (most recent call last):\n",
      "  File \"/glade/work/mclong/miniconda3/envs/metabolic/lib/python3.7/site-packages/ipykernel/kernelbase.py\", line 461, in dispatch_queue\n",
      "    await self.process_one()\n",
      "  File \"/glade/work/mclong/miniconda3/envs/metabolic/lib/python3.7/site-packages/ipykernel/kernelbase.py\", line 450, in process_one\n",
      "    await dispatch(*args)\n",
      "TypeError: object NoneType can't be used in 'await' expression\n"
     ]
    },
    {
     "name": "stdout",
     "output_type": "stream",
     "text": [
      "Error executing the notebook \"figure-1.ipynb\".\n",
      "See notebook \"figure-1.ipynb\" for the traceback.\n",
      "\n",
      "wrote: /glade/u/home/mclong/codes/aerobic-safety-margins/notebooks/figure-1.ipynb\n"
     ]
    },
    {
     "ename": "RuntimeError",
     "evalue": "failed: figure-1.ipynb",
     "output_type": "error",
     "traceback": [
      "\u001b[0;31m---------------------------------------------------------------------------\u001b[0m",
      "\u001b[0;31mRuntimeError\u001b[0m                              Traceback (most recent call last)",
      "\u001b[0;32m/glade/scratch/mclong/tmp/ipykernel_147868/460559441.py\u001b[0m in \u001b[0;36m<module>\u001b[0;34m\u001b[0m\n\u001b[1;32m     12\u001b[0m \"\"\")\n\u001b[1;32m     13\u001b[0m \u001b[0;34m\u001b[0m\u001b[0m\n\u001b[0;32m---> 14\u001b[0;31m \u001b[0mok\u001b[0m \u001b[0;34m=\u001b[0m \u001b[0mrun_calc\u001b[0m\u001b[0;34m.\u001b[0m\u001b[0mrun\u001b[0m\u001b[0;34m(\u001b[0m\u001b[0;34m[\u001b[0m\u001b[0mnb\u001b[0m \u001b[0;32mfor\u001b[0m \u001b[0mnb\u001b[0m\u001b[0;34m,\u001b[0m \u001b[0mparms\u001b[0m \u001b[0;32min\u001b[0m \u001b[0mfig1_nbs\u001b[0m\u001b[0;34m.\u001b[0m\u001b[0mitems\u001b[0m\u001b[0;34m(\u001b[0m\u001b[0;34m)\u001b[0m \u001b[0;32mif\u001b[0m \u001b[0mparms\u001b[0m\u001b[0;34m[\u001b[0m\u001b[0;34m'run'\u001b[0m\u001b[0;34m]\u001b[0m\u001b[0;34m]\u001b[0m\u001b[0;34m,\u001b[0m \u001b[0mkernel\u001b[0m\u001b[0;34m=\u001b[0m\u001b[0mproject_kernel\u001b[0m\u001b[0;34m)\u001b[0m\u001b[0;34m\u001b[0m\u001b[0;34m\u001b[0m\u001b[0m\n\u001b[0m",
      "\u001b[0;32m~/codes/aerobic-safety-margins/notebooks/run_calc.py\u001b[0m in \u001b[0;36mrun\u001b[0;34m(notebooks, kernel, stop_on_fail)\u001b[0m\n\u001b[1;32m    155\u001b[0m \u001b[0;34m\u001b[0m\u001b[0m\n\u001b[1;32m    156\u001b[0m         \u001b[0;32mif\u001b[0m \u001b[0;32mnot\u001b[0m \u001b[0mok\u001b[0m \u001b[0;32mand\u001b[0m \u001b[0mstop_on_fail\u001b[0m\u001b[0;34m:\u001b[0m\u001b[0;34m\u001b[0m\u001b[0;34m\u001b[0m\u001b[0m\n\u001b[0;32m--> 157\u001b[0;31m             \u001b[0;32mraise\u001b[0m \u001b[0mRuntimeError\u001b[0m\u001b[0;34m(\u001b[0m\u001b[0;34mf'failed: {nb}'\u001b[0m\u001b[0;34m)\u001b[0m\u001b[0;34m\u001b[0m\u001b[0;34m\u001b[0m\u001b[0m\n\u001b[0m\u001b[1;32m    158\u001b[0m \u001b[0;34m\u001b[0m\u001b[0m\n\u001b[1;32m    159\u001b[0m     \u001b[0;32mreturn\u001b[0m \u001b[0mall\u001b[0m\u001b[0;34m(\u001b[0m\u001b[0mran_ok\u001b[0m\u001b[0;34m)\u001b[0m\u001b[0;34m\u001b[0m\u001b[0;34m\u001b[0m\u001b[0m\n",
      "\u001b[0;31mRuntimeError\u001b[0m: failed: figure-1.ipynb"
     ]
    }
   ],
   "source": [
    "figure3 = [\n",
    "    'compute-MI-trait-space-cesm-le.ipynb':\n",
    "]\n",
    "for nb in figure3:\n",
    "    o = pm.execute_notebook(\n",
    "        input_path=nb,\n",
    "        output_path=nb,\n",
    "        kernel_name=project_kernel,\n",
    "    )"
   ]
  },
  {
   "cell_type": "code",
   "execution_count": null,
   "id": "6af90e88-06b4-43e5-aaeb-f148de9ff2aa",
   "metadata": {},
   "outputs": [],
   "source": []
  },
  {
   "cell_type": "code",
   "execution_count": null,
   "id": "ce7ecdf6-861b-4ecc-9fa3-0b72e14cf118",
   "metadata": {},
   "outputs": [],
   "source": []
  },
  {
   "cell_type": "code",
   "execution_count": null,
   "id": "0c391d67-f44b-49cf-a385-5571d2fe35d5",
   "metadata": {},
   "outputs": [],
   "source": []
  }
 ],
 "metadata": {
  "kernelspec": {
   "display_name": "Python [conda env:miniconda3-metabolic]",
   "language": "python",
   "name": "conda-env-miniconda3-metabolic-py"
  },
  "language_info": {
   "codemirror_mode": {
    "name": "ipython",
    "version": 3
   },
   "file_extension": ".py",
   "mimetype": "text/x-python",
   "name": "python",
   "nbconvert_exporter": "python",
   "pygments_lexer": "ipython3",
   "version": "3.7.12"
  }
 },
 "nbformat": 4,
 "nbformat_minor": 5
}
