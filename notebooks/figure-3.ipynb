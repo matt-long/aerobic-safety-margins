{
 "cells": [
  {
   "cell_type": "markdown",
   "id": "de3939ce-1228-4e9e-a5f2-4266929eb223",
   "metadata": {},
   "source": [
    "# Impacts in Trait Space"
   ]
  },
  {
   "cell_type": "code",
   "execution_count": 1,
   "id": "8348b73c-76ce-45a5-8328-fac6b0500769",
   "metadata": {},
   "outputs": [],
   "source": [
    "%load_ext autoreload\n",
    "%autoreload 2"
   ]
  },
  {
   "cell_type": "code",
   "execution_count": null,
   "id": "52043940-e853-4a5b-8638-0141cc420db3",
   "metadata": {},
   "outputs": [],
   "source": [
    "import cartopy\n",
    "import cartopy.crs as ccrs\n",
    "import cmocean\n",
    "import data_collections as dc\n",
    "import funnel\n",
    "import intake\n",
    "import matplotlib.pyplot as plt\n",
    "import numpy as np\n",
    "import util\n",
    "import xarray as xr"
   ]
  }
 ],
 "metadata": {
  "kernelspec": {
   "display_name": "Python [conda env:miniconda3-metabolic]",
   "language": "python",
   "name": "conda-env-miniconda3-metabolic-py"
  },
  "language_info": {
   "codemirror_mode": {
    "name": "ipython",
    "version": 3
   },
   "file_extension": ".py",
   "mimetype": "text/x-python",
   "name": "python",
   "nbconvert_exporter": "python",
   "pygments_lexer": "ipython3",
   "version": "3.7.12"
  }
 },
 "nbformat": 4,
 "nbformat_minor": 5
}
