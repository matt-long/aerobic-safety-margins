{
 "cells": [
  {
   "cell_type": "code",
   "execution_count": 1,
   "id": "d3985812-277d-49ae-9d58-133990678ad8",
   "metadata": {},
   "outputs": [],
   "source": [
    "import os\n",
    "from glob import glob\n",
    "\n",
    "import funnel\n",
    "import yaml"
   ]
  },
  {
   "cell_type": "code",
   "execution_count": 2,
   "id": "7476a6c6-9ffe-4c08-a009-052ef215b4fa",
   "metadata": {},
   "outputs": [],
   "source": [
    "files = sorted(glob(f'{funnel.config.cache_catalog_dir}/*.yml'))\n",
    "\n",
    "data = {}\n",
    "files_w_missing_assets = []\n",
    "for f in files:\n",
    "    with open(f) as fid:\n",
    "        data[f] = yaml.safe_load(fid)\n",
    "\n",
    "    asset = data[f]['asset']\n",
    "    if not os.path.exists(asset):\n",
    "        print(f'missing {asset}')\n",
    "        files_w_missing_assets.append(f)\n",
    "\n",
    "    if 'additional_coord_values' in data[f]:\n",
    "        print(f)"
   ]
  },
  {
   "cell_type": "code",
   "execution_count": 3,
   "id": "93b14bfa-e949-4462-a70d-762e4cdf9f8c",
   "metadata": {},
   "outputs": [
    {
     "data": {
      "text/plain": [
       "[]"
      ]
     },
     "execution_count": 3,
     "metadata": {},
     "output_type": "execute_result"
    }
   ],
   "source": [
    "files_w_missing_assets"
   ]
  },
  {
   "cell_type": "code",
   "execution_count": 8,
   "id": "b18db80c-068c-45ad-bd0b-a7845c0ef817",
   "metadata": {},
   "outputs": [],
   "source": [
    "for f in files_w_missing_assets:\n",
    "    os.remove(f)"
   ]
  },
  {
   "cell_type": "code",
   "execution_count": null,
   "id": "a075d6c8-15bd-41b2-912d-bb9a338a54f0",
   "metadata": {},
   "outputs": [],
   "source": []
  }
 ],
 "metadata": {
  "kernelspec": {
   "display_name": "Python [conda env:miniconda3-metabolic]",
   "language": "python",
   "name": "conda-env-miniconda3-metabolic-py"
  },
  "language_info": {
   "codemirror_mode": {
    "name": "ipython",
    "version": 3
   },
   "file_extension": ".py",
   "mimetype": "text/x-python",
   "name": "python",
   "nbconvert_exporter": "python",
   "pygments_lexer": "ipython3",
   "version": "3.7.12"
  }
 },
 "nbformat": 4,
 "nbformat_minor": 5
}
