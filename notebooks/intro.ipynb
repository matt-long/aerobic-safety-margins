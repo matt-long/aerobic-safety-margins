{
 "cells": [
  {
   "cell_type": "markdown",
   "id": "ccc8056c-f980-47de-8074-fb195a30de3a",
   "metadata": {},
   "source": [
    "# Aerobic Saftey Margins for Marine Ecotherms\n",
    "\n",
    "This book documents the computation of \"Aerobic Safety Margins\", applying metabolic theory originally defined by {cite:t}`Deutsch-Ferrel-etal-2015` and trait data in {`Deutsch-Penn-etal-2020`."
   ]
  },
  {
   "cell_type": "code",
   "execution_count": null,
   "id": "0e96ac9a-438d-4b73-820d-87f80af9baeb",
   "metadata": {},
   "outputs": [],
   "source": []
  }
 ],
 "metadata": {
  "kernelspec": {
   "display_name": "Python [conda env:miniconda3-metabolic]",
   "language": "python",
   "name": "conda-env-miniconda3-metabolic-py"
  },
  "language_info": {
   "codemirror_mode": {
    "name": "ipython",
    "version": 3
   },
   "file_extension": ".py",
   "mimetype": "text/x-python",
   "name": "python",
   "nbconvert_exporter": "python",
   "pygments_lexer": "ipython3",
   "version": "3.7.12"
  }
 },
 "nbformat": 4,
 "nbformat_minor": 5
}
